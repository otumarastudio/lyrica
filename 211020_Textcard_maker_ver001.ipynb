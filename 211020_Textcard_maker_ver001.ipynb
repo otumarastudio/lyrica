{
  "nbformat": 4,
  "nbformat_minor": 0,
  "metadata": {
    "colab": {
      "name": "211020_Textcard_maker_ver001.ipynb",
      "provenance": [],
      "collapsed_sections": []
    },
    "kernelspec": {
      "name": "python3",
      "display_name": "Python 3"
    },
    "language_info": {
      "name": "python"
    }
  },
  "cells": [
    {
      "cell_type": "code",
      "metadata": {
        "id": "BO7-QdTE3XPR"
      },
      "source": [
        "import requests\n",
        "import PIL\n",
        "from PIL import Image, ImageDraw, ImageFont\n",
        "import io"
      ],
      "execution_count": null,
      "outputs": []
    },
    {
      "cell_type": "markdown",
      "metadata": {
        "id": "305bHfo9FAe8"
      },
      "source": [
        "1. 가사 입력\n",
        "2. 이미지 사이즈 입력\n",
        "3. 카드로 출력"
      ]
    },
    {
      "cell_type": "code",
      "metadata": {
        "id": "FzOHO_bj3f_Q",
        "colab": {
          "base_uri": "https://localhost:8080/",
          "height": 127
        },
        "outputId": "bec8c96b-4846-4018-dfb1-9ee7f0dc4f66"
      },
      "source": [
        "# 1. 가사 입력\n",
        "구글 가사를 리스트로 만든다.\n",
        "\n",
        "lyrics = [\"지친 하루가 가고\"\t,\n",
        "\"\t달빛 아래 두 사람 하나의 그림자\t\"\t,\n",
        "\"\t눈 감으면 잡힐듯 아련한 행복이\t\"\t,\n",
        "\"\t아직 저기 있는데\t\"\t,\n",
        "\"\t상처 입은 마음은\t\"\t,\n",
        "\"\t너의 꿈마저 그늘을 드리워도\t\"\t,\n",
        "\"\t기억해줘 아프도록\t사랑하는 사람이\",\n",
        "\" 곁에 있다는 걸\t\",\n",
        "\"\t때로는 이~길이 멀게만 보여도\t\"\t,\n",
        "\"\t서글픈 마음에 눈물이 흘러도\t\"\t,\n",
        "\"\t모든 일이 추억이 될 때까지\t\"\t,\n",
        "\"\t우리 두사람 서로의 쉴 곳이 되어주리\t\"\t,\n",
        "\"\t너와 함께 걸을 때 어디로 가야 할지\"\t,\n",
        "\"\t길이 보이지 않을 때\t\"\t,\n",
        "\"\t기억할게 너 하나만으로\t\"\t,\n",
        "\"\t눈이 부시던 그 날의 세상을\t\"\t,\n",
        "\"\t여전히 서툴고 또 부족하지만\t\"\t,\n",
        "\"\t언제까지나 네 곁에 있을게\t\"\t,\n",
        "\"\t캄캄한 밤 길을 잃고 헤매도\t\"\t,\n",
        "\"\t우리 두사람 서로의 등불이 되어주리\t\"\t,\n",
        "\"\t먼 훗날 무지개 저 너머에\t\"\t,\n",
        "\"\t우리가 찾던 꿈 거기 없다 해도\t\"\t,\n",
        "\"\t그대와 나 함께 보내는 지금 이 시간들이\t\"\t,\n",
        "\"\t내겐 그보다 더 소중한 걸\t\"\t,\n",
        "\"\t때로는 이~길이 멀게만 보여도\t\"\t,\n",
        "\"\t서글픈 마음에 눈물이 흘러도\t\"\t,\n",
        "\"\t모든 일이 추억이 될 때까지\t\"\t,\n",
        "\"\t우리 두~사람 서로의 쉴 곳이 되어\t\"\t,\n",
        "\"\t서툴고 또 부족하지만\t\"\t,\n",
        "\"\t언제까지나 곁에 있을게\t\"\t,\n",
        "\"\t모진 바람 또다시 불어와도\t\"\t,\n",
        "\"\t우리 두사람 저거친 세월을 지나가리\t\"]\n",
        "\n",
        "# 탭을 없애준다.\n",
        "lyrics = [i.replace(\"\\t\",\"\") for i in lyrics]"
      ],
      "execution_count": null,
      "outputs": [
        {
          "output_type": "error",
          "ename": "SyntaxError",
          "evalue": "ignored",
          "traceback": [
            "\u001b[0;36m  File \u001b[0;32m\"<ipython-input-190-7ddfab3518b1>\"\u001b[0;36m, line \u001b[0;32m2\u001b[0m\n\u001b[0;31m    구글 가사를 리스트로 만든다.\u001b[0m\n\u001b[0m         ^\u001b[0m\n\u001b[0;31mSyntaxError\u001b[0m\u001b[0;31m:\u001b[0m invalid syntax\n"
          ]
        }
      ]
    },
    {
      "cell_type": "markdown",
      "metadata": {
        "id": "0rvRnCj1FdUE"
      },
      "source": [
        "1. FONT를 내려받고\n",
        "2. 칸바스를 생성하고\n",
        "3. 텍스트를 그려준 후\n",
        "  - 텍스트 길이가 15자 이상일 경우\n",
        "  - 두줄로 나누어 그려준다\n",
        "4. 각 이미지 파일로 저장"
      ]
    },
    {
      "cell_type": "code",
      "metadata": {
        "id": "6dxkG1dz79DB"
      },
      "source": [
        "from PIL import Image, ImageFont, ImageDraw\n",
        "import requests\n",
        "import io\n",
        "\n",
        "\n",
        "# 원하는 폰트를 내려 받는다.\n",
        "url = \"https://github.com/yangheeryu/Gowun-Dodum/blob/master/fonts/ttf/GowunDodum-Regular.ttf?raw=true\"\n",
        "r = requests.get(url, allow_redirects=True)\n",
        "\n",
        "#폰트를 불러오고 사이즈를 설정한다.\n",
        "font = ImageFont.truetype(io.BytesIO(r.content), size=20)\n",
        "font2 = ImageFont.truetype(io.BytesIO(r.content), size=15)\n",
        "\n",
        "#제목과 파일을 저장할 경로를 설정한다.\n",
        "title = \"두사람\"\n",
        "out_path = f\"/content/drive/MyDrive/dev/lyric_card/{title}/\"\n",
        "\n",
        "# 캔버스 사이즈를 설정한다.\n",
        "size_set = (300,300)\n",
        "\n",
        "# 가사가 길 경우 한 줄을 추가한다.\n",
        "def line_maker(text_line):\n",
        "  work = text_line.split()\n",
        "  line_length = len(work)\n",
        "  find_index = math.floor(line_length/2)\n",
        "  work.insert(find_index, '\\n')\n",
        "  work = ' '.join(work)\n",
        "  return work"
      ],
      "execution_count": null,
      "outputs": []
    },
    {
      "cell_type": "code",
      "metadata": {
        "colab": {
          "base_uri": "https://localhost:8080/"
        },
        "id": "pQ4LA_BxIJe7",
        "outputId": "5174fa8a-95ea-484e-e2e8-e354dcfa8b6d"
      },
      "source": [
        "# Image File generator\n",
        "\n",
        "k = 0\n",
        "for i, l in enumerate(lyrics) :\n",
        "  #칸바스를 그린다.\n",
        "  canvas = Image.new('RGB', size_set, (255,255,255))\n",
        "\n",
        "  #텍스트를 그린다.\n",
        "  draw = ImageDraw.Draw(canvas)\n",
        "  #가사가 길 경우, Line_maker를 실행하여 줄을 나눈다.\n",
        "  if len(l) <= 15:\n",
        "    draw.text((20, 130), l, font=font, fill=(0,0,0))\n",
        "  elif len(l) > 15:\n",
        "    draw.text((20,130), line_maker(l), font=font, fill=(0,0,0))\n",
        "  \n",
        "  # 페이지 텍스트를 그린다.\n",
        "  draw.text((260,5), f\"{i+1}/{len(lyrics)}\", font=font2, fill=(30,30,30))\n",
        "  canvas.save(f'{out_path}두사람 가사{i+1}.png')  \n",
        "  k+=1\n",
        "\n",
        "print(f\"TOTAL {k} EA CARDS CREATED\" )"
      ],
      "execution_count": null,
      "outputs": [
        {
          "output_type": "stream",
          "name": "stdout",
          "text": [
            "TOTAL 32 EA CARDS CREATED\n"
          ]
        }
      ]
    }
  ]
}